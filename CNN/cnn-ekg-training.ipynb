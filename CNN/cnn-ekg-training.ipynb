{
 "cells": [
  {
   "cell_type": "code",
   "execution_count": null,
   "id": "d272c927",
   "metadata": {},
   "outputs": [
    {
     "name": "stderr",
     "output_type": "stream",
     "text": [
      "/Library/Frameworks/Python.framework/Versions/3.10/lib/python3.10/site-packages/keras/src/layers/convolutional/base_conv.py:113: UserWarning: Do not pass an `input_shape`/`input_dim` argument to a layer. When using Sequential models, prefer using an `Input(shape)` object as the first layer in the model instead.\n",
      "  super().__init__(activity_regularizer=activity_regularizer, **kwargs)\n"
     ]
    },
    {
     "name": "stdout",
     "output_type": "stream",
     "text": [
      "Epoch 1/10\n",
      "\u001b[1m609/609\u001b[0m \u001b[32m━━━━━━━━━━━━━━━━━━━━\u001b[0m\u001b[37m\u001b[0m \u001b[1m29s\u001b[0m 46ms/step - accuracy: 0.7250 - loss: 0.5236 - val_accuracy: 0.8728 - val_loss: 0.3162\n",
      "Epoch 2/10\n",
      "\u001b[1m609/609\u001b[0m \u001b[32m━━━━━━━━━━━━━━━━━━━━\u001b[0m\u001b[37m\u001b[0m \u001b[1m22s\u001b[0m 36ms/step - accuracy: 0.8883 - loss: 0.2869 - val_accuracy: 0.8913 - val_loss: 0.2781\n",
      "Epoch 3/10\n",
      "\u001b[1m609/609\u001b[0m \u001b[32m━━━━━━━━━━━━━━━━━━━━\u001b[0m\u001b[37m\u001b[0m \u001b[1m22s\u001b[0m 35ms/step - accuracy: 0.9216 - loss: 0.2010 - val_accuracy: 0.9084 - val_loss: 0.2438\n",
      "Epoch 4/10\n",
      "\u001b[1m609/609\u001b[0m \u001b[32m━━━━━━━━━━━━━━━━━━━━\u001b[0m\u001b[37m\u001b[0m \u001b[1m22s\u001b[0m 36ms/step - accuracy: 0.9505 - loss: 0.1285 - val_accuracy: 0.9088 - val_loss: 0.2625\n",
      "Epoch 5/10\n",
      "\u001b[1m609/609\u001b[0m \u001b[32m━━━━━━━━━━━━━━━━━━━━\u001b[0m\u001b[37m\u001b[0m \u001b[1m34s\u001b[0m 56ms/step - accuracy: 0.9712 - loss: 0.0776 - val_accuracy: 0.8950 - val_loss: 0.3292\n",
      "Epoch 6/10\n",
      "\u001b[1m609/609\u001b[0m \u001b[32m━━━━━━━━━━━━━━━━━━━━\u001b[0m\u001b[37m\u001b[0m \u001b[1m29s\u001b[0m 48ms/step - accuracy: 0.9846 - loss: 0.0450 - val_accuracy: 0.9057 - val_loss: 0.3504\n",
      "Epoch 7/10\n",
      "\u001b[1m609/609\u001b[0m \u001b[32m━━━━━━━━━━━━━━━━━━━━\u001b[0m\u001b[37m\u001b[0m \u001b[1m22s\u001b[0m 36ms/step - accuracy: 0.9900 - loss: 0.0278 - val_accuracy: 0.8952 - val_loss: 0.4176\n",
      "Epoch 8/10\n",
      "\u001b[1m609/609\u001b[0m \u001b[32m━━━━━━━━━━━━━━━━━━━━\u001b[0m\u001b[37m\u001b[0m \u001b[1m35s\u001b[0m 57ms/step - accuracy: 0.9925 - loss: 0.0227 - val_accuracy: 0.8959 - val_loss: 0.4886\n",
      "Epoch 9/10\n",
      "\u001b[1m609/609\u001b[0m \u001b[32m━━━━━━━━━━━━━━━━━━━━\u001b[0m\u001b[37m\u001b[0m \u001b[1m35s\u001b[0m 57ms/step - accuracy: 0.9959 - loss: 0.0126 - val_accuracy: 0.9014 - val_loss: 0.5025\n",
      "Epoch 10/10\n",
      "\u001b[1m609/609\u001b[0m \u001b[32m━━━━━━━━━━━━━━━━━━━━\u001b[0m\u001b[37m\u001b[0m \u001b[1m26s\u001b[0m 43ms/step - accuracy: 0.9966 - loss: 0.0127 - val_accuracy: 0.8901 - val_loss: 0.5923\n"
     ]
    }
   ],
   "source": [
    "import os\n",
    "import numpy as np\n",
    "import wfdb\n",
    "from tensorflow.keras import layers, models\n",
    "from sklearn.model_selection import train_test_split\n",
    "\n",
    "segment_length = 1280\n",
    "data_folder = \"training/\"\n",
    "\n",
    "def get_segment_label(ann, start_idx, end_idx):\n",
    "    for i, sample in enumerate(ann.sample):\n",
    "        if start_idx <= sample < end_idx:\n",
    "            symbol = ann.symbol[i]\n",
    "            if symbol != 'N':\n",
    "                return 1\n",
    "    return 0\n",
    "\n",
    "def load_labeled_segments(folder_path, segment_length=1280):\n",
    "    segments = []\n",
    "    labels = []\n",
    "    for file in os.listdir(folder_path):\n",
    "        if file.endswith(\".hea\"):\n",
    "            record_path = os.path.join(folder_path, os.path.splitext(file)[0])\n",
    "            try:\n",
    "                record = wfdb.rdrecord(record_path)\n",
    "                ann = wfdb.rdann(record_path, 'atr')\n",
    "                signal = record.p_signal[:, 0]\n",
    "\n",
    "                for start in range(0, len(signal) - segment_length, segment_length):\n",
    "                    end = start + segment_length\n",
    "                    segment = signal[start:end]\n",
    "                    label = get_segment_label(ann, start, end)\n",
    "                    segments.append(segment)\n",
    "                    labels.append(label)\n",
    "            except Exception as e:\n",
    "                print(f\"Could not load {record_path}: {e}\")\n",
    "    return np.array(segments), np.array(labels)\n",
    "\n",
    "def preprocess_signal(segments):\n",
    "    normalized = (segments - np.mean(segments, axis=1, keepdims=True)) / np.std(segments, axis=1, keepdims=True)\n",
    "    return normalized[..., np.newaxis]\n",
    "\n",
    "def build_cnn_model(input_shape):\n",
    "    model = models.Sequential([\n",
    "        layers.Conv1D(32, 5, activation='relu', input_shape=input_shape),\n",
    "        layers.MaxPooling1D(2),\n",
    "        layers.Conv1D(64, 5, activation='relu'),\n",
    "        layers.MaxPooling1D(2),\n",
    "        layers.Flatten(),\n",
    "        layers.Dense(64, activation='relu'),\n",
    "        layers.Dense(1, activation='sigmoid')\n",
    "    ])\n",
    "    model.compile(optimizer='adam', loss='binary_crossentropy', metrics=['accuracy'])\n",
    "    return model\n",
    "\n",
    "\n",
    "segments, labels = load_labeled_segments(data_folder, segment_length)\n",
    "X = preprocess_signal(segments)\n",
    "y = labels.reshape(-1, 1)\n",
    "\n",
    "X_train, X_val, y_train, y_val = train_test_split(X, y, test_size=0.2, random_state=42, stratify=y)\n",
    "\n",
    "model = build_cnn_model(X_train.shape[1:])\n",
    "model.fit(X_train, y_train, epochs=10, batch_size=32, validation_data=(X_val, y_val))\n",
    "\n",
    "\n",
    "model.save(\"models/ekg-anomaly-classifier.keras\")\n"
   ]
  }
 ],
 "metadata": {
  "kernelspec": {
   "display_name": "Python 3",
   "language": "python",
   "name": "python3"
  },
  "language_info": {
   "codemirror_mode": {
    "name": "ipython",
    "version": 3
   },
   "file_extension": ".py",
   "mimetype": "text/x-python",
   "name": "python",
   "nbconvert_exporter": "python",
   "pygments_lexer": "ipython3",
   "version": "3.10.0"
  }
 },
 "nbformat": 4,
 "nbformat_minor": 5
}
