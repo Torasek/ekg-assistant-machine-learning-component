{
 "cells": [
  {
   "cell_type": "markdown",
   "id": "032421e2",
   "metadata": {},
   "source": [
    "Training set: MIT-BIH Normal Sinus Rhythm Database (nsrdb)\n",
    "\n",
    "Number of records: 18 long-term ECG recordings\n",
    "\n",
    "Duration: Up to 24 hours\n",
    "\n",
    "Sampling frequency: 128 Hz\n",
    "\n",
    "Channels: 2 leads\n",
    "\n",
    "Description: Participants were considered healthy, with no significant arrhythmias\n",
    "\n",
    "Format: WFDB (.hea + .dat)"
   ]
  },
  {
   "cell_type": "code",
   "execution_count": 21,
   "id": "62f512cf",
   "metadata": {},
   "outputs": [],
   "source": [
    "import wfdb\n",
    "import numpy as np\n",
    "import os\n"
   ]
  },
  {
   "cell_type": "code",
   "execution_count": 22,
   "id": "597b09a8",
   "metadata": {},
   "outputs": [],
   "source": [
    "def load_training_data(folder_path, segment_length=1280):\n",
    "    all_segments = []\n",
    "\n",
    "    for file in os.listdir(folder_path):\n",
    "        if file.endswith(\".hea\"):\n",
    "            record_path = os.path.join(folder_path, os.path.splitext(file)[0])\n",
    "            try:\n",
    "                record = wfdb.rdrecord(record_path)\n",
    "                signal = record.p_signal[:, 0]\n",
    "                for i in range(0, len(signal) - segment_length, segment_length):\n",
    "                    segment = signal[i:i+segment_length]\n",
    "                    all_segments.append(segment)\n",
    "            except Exception as e:\n",
    "                print(f\"Could not load {record_path}: {e}\")\n",
    "\n",
    "    if not all_segments:\n",
    "        raise ValueError(f\"No training data found in folder: {folder_path}\")\n",
    "\n",
    "    return np.array(all_segments)\n"
   ]
  },
  {
   "cell_type": "code",
   "execution_count": 23,
   "id": "8ea1d1e8",
   "metadata": {},
   "outputs": [],
   "source": [
    "def preprocess_signal(segments):\n",
    "    # Normalization to range [-1, 1]\n",
    "    normalized = (segments - np.mean(segments, axis=1, keepdims=True)) / np.std(segments, axis=1, keepdims=True)\n",
    "    return normalized[..., np.newaxis]\n"
   ]
  },
  {
   "cell_type": "code",
   "execution_count": 24,
   "id": "983327a9",
   "metadata": {},
   "outputs": [],
   "source": [
    "from tensorflow.keras import layers, models\n",
    "\n",
    "def build_cnn_model(input_shape):\n",
    "    model = models.Sequential([\n",
    "        layers.Conv1D(32, 5, activation='relu', input_shape=input_shape),\n",
    "        layers.MaxPooling1D(2),\n",
    "        layers.Conv1D(64, 5, activation='relu'),\n",
    "        layers.MaxPooling1D(2),\n",
    "        layers.Flatten(),\n",
    "        layers.Dense(64, activation='relu'),\n",
    "        layers.Dense(1, activation='sigmoid')\n",
    "    ])\n",
    "    model.compile(optimizer='adam', loss='binary_crossentropy', metrics=['accuracy'])\n",
    "    return model\n"
   ]
  },
  {
   "cell_type": "code",
   "execution_count": 25,
   "id": "d272c927",
   "metadata": {},
   "outputs": [
    {
     "ename": "ValueError",
     "evalue": "No training data found in folder: training/",
     "output_type": "error",
     "traceback": [
      "\u001b[0;31m---------------------------------------------------------------------------\u001b[0m",
      "\u001b[0;31mValueError\u001b[0m                                Traceback (most recent call last)",
      "Cell \u001b[0;32mIn[25], line 1\u001b[0m\n\u001b[0;32m----> 1\u001b[0m segments \u001b[38;5;241m=\u001b[39m \u001b[43mload_training_data\u001b[49m\u001b[43m(\u001b[49m\u001b[38;5;124;43m\"\u001b[39;49m\u001b[38;5;124;43mtraining/\u001b[39;49m\u001b[38;5;124;43m\"\u001b[39;49m\u001b[43m,\u001b[49m\u001b[43m \u001b[49m\u001b[43msegment_length\u001b[49m\u001b[38;5;241;43m=\u001b[39;49m\u001b[38;5;241;43m3000\u001b[39;49m\u001b[43m)\u001b[49m\n\u001b[1;32m      2\u001b[0m X_train \u001b[38;5;241m=\u001b[39m preprocess_signal(segments)\n\u001b[1;32m      3\u001b[0m y_train \u001b[38;5;241m=\u001b[39m np\u001b[38;5;241m.\u001b[39mones((X_train\u001b[38;5;241m.\u001b[39mshape[\u001b[38;5;241m0\u001b[39m], \u001b[38;5;241m1\u001b[39m)) \n",
      "Cell \u001b[0;32mIn[22], line 17\u001b[0m, in \u001b[0;36mload_training_data\u001b[0;34m(folder_path, segment_length)\u001b[0m\n\u001b[1;32m     14\u001b[0m             \u001b[38;5;28mprint\u001b[39m(\u001b[38;5;124mf\u001b[39m\u001b[38;5;124m\"\u001b[39m\u001b[38;5;124mCould not load \u001b[39m\u001b[38;5;132;01m{\u001b[39;00mrecord_path\u001b[38;5;132;01m}\u001b[39;00m\u001b[38;5;124m: \u001b[39m\u001b[38;5;132;01m{\u001b[39;00me\u001b[38;5;132;01m}\u001b[39;00m\u001b[38;5;124m\"\u001b[39m)\n\u001b[1;32m     16\u001b[0m \u001b[38;5;28;01mif\u001b[39;00m \u001b[38;5;129;01mnot\u001b[39;00m all_segments:\n\u001b[0;32m---> 17\u001b[0m     \u001b[38;5;28;01mraise\u001b[39;00m \u001b[38;5;167;01mValueError\u001b[39;00m(\u001b[38;5;124mf\u001b[39m\u001b[38;5;124m\"\u001b[39m\u001b[38;5;124mNo training data found in folder: \u001b[39m\u001b[38;5;132;01m{\u001b[39;00mfolder_path\u001b[38;5;132;01m}\u001b[39;00m\u001b[38;5;124m\"\u001b[39m)\n\u001b[1;32m     19\u001b[0m \u001b[38;5;28;01mreturn\u001b[39;00m np\u001b[38;5;241m.\u001b[39marray(all_segments)\n",
      "\u001b[0;31mValueError\u001b[0m: No training data found in folder: training/"
     ]
    }
   ],
   "source": [
    "segments = load_training_data(\"training/\", segment_length=3000)\n",
    "X_train = preprocess_signal(segments)\n",
    "y_train = np.ones((X_train.shape[0], 1)) \n",
    "\n",
    "model = build_cnn_model(X_train.shape[1:])\n",
    "model.fit(X_train, y_train, epochs=10, batch_size=32)"
   ]
  }
 ],
 "metadata": {
  "kernelspec": {
   "display_name": "Python 3",
   "language": "python",
   "name": "python3"
  },
  "language_info": {
   "codemirror_mode": {
    "name": "ipython",
    "version": 3
   },
   "file_extension": ".py",
   "mimetype": "text/x-python",
   "name": "python",
   "nbconvert_exporter": "python",
   "pygments_lexer": "ipython3",
   "version": "3.10.0"
  }
 },
 "nbformat": 4,
 "nbformat_minor": 5
}
